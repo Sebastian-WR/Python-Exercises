{
 "cells": [
  {
   "cell_type": "markdown",
   "id": "graphic-banana",
   "metadata": {},
   "source": [
    "# Functions & decorators"
   ]
  },
  {
   "cell_type": "markdown",
   "id": "private-addition",
   "metadata": {},
   "source": [
    "## First class functions"
   ]
  },
  {
   "cell_type": "markdown",
   "id": "vocal-declaration",
   "metadata": {},
   "source": [
    "### functions as parameters\n"
   ]
  },
  {
   "cell_type": "code",
   "execution_count": 14,
   "id": "printable-surfing",
   "metadata": {},
   "outputs": [],
   "source": [
    "def my_first_function(func):\n",
    "    print(func)"
   ]
  },
  {
   "cell_type": "code",
   "execution_count": 15,
   "id": "oriented-respect",
   "metadata": {},
   "outputs": [],
   "source": [
    "def greet():\n",
    "    return 'Hello'"
   ]
  },
  {
   "cell_type": "code",
   "execution_count": 16,
   "id": "marked-species",
   "metadata": {},
   "outputs": [
    {
     "name": "stdout",
     "output_type": "stream",
     "text": [
      "Hello\n"
     ]
    }
   ],
   "source": [
    "my_first_function(greet())"
   ]
  },
  {
   "cell_type": "markdown",
   "id": "logical-patent",
   "metadata": {},
   "source": [
    "### Inner functions\n"
   ]
  },
  {
   "cell_type": "code",
   "execution_count": 30,
   "id": "nearby-today",
   "metadata": {},
   "outputs": [],
   "source": [
    "def foo():\n",
    "    def inner():\n",
    "        return 'inner msg'\n",
    "    \n",
    "    #print(inner())\n",
    "    return inner # returns inside scope, cause we cant touch it outside altså the inner"
   ]
  },
  {
   "cell_type": "code",
   "execution_count": 31,
   "id": "grand-parking",
   "metadata": {},
   "outputs": [
    {
     "name": "stdout",
     "output_type": "stream",
     "text": [
      "inner msg\n"
     ]
    }
   ],
   "source": [
    "print(foo()()) # () executes the next step kindof"
   ]
  },
  {
   "cell_type": "markdown",
   "id": "certified-arcade",
   "metadata": {},
   "source": [
    "## Decorators"
   ]
  },
  {
   "cell_type": "markdown",
   "id": "vocational-infrastructure",
   "metadata": {},
   "source": [
    "### simple"
   ]
  },
  {
   "cell_type": "code",
   "execution_count": 46,
   "id": "based-vienna",
   "metadata": {},
   "outputs": [],
   "source": [
    "#Decorator function\n",
    "def my_decorator(func):\n",
    "    def wrapper():\n",
    "        print('This is done before function execution')\n",
    "        func()\n",
    "        print('This is done after function execution')\n",
    "        \n",
    "    return wrapper    "
   ]
  },
  {
   "cell_type": "code",
   "execution_count": 47,
   "id": "antique-restoration",
   "metadata": {},
   "outputs": [],
   "source": [
    "def greet():\n",
    "    print('Hello World!')"
   ]
  },
  {
   "cell_type": "code",
   "execution_count": 52,
   "id": "sustainable-depth",
   "metadata": {},
   "outputs": [
    {
     "name": "stdout",
     "output_type": "stream",
     "text": [
      "This is done before function execution\n",
      "Hello World!\n",
      "This is done after function execution\n"
     ]
    }
   ],
   "source": [
    "greet = my_decorator(greet)\n",
    "greet()\n",
    "# using same name so it seems like youre calling it, but behind the scenes you have decorated it so owerwritten"
   ]
  },
  {
   "cell_type": "code",
   "execution_count": 53,
   "id": "legendary-content",
   "metadata": {},
   "outputs": [
    {
     "name": "stdout",
     "output_type": "stream",
     "text": [
      "This is done before function execution\n",
      "Hello World!\n",
      "This is done after function execution\n"
     ]
    }
   ],
   "source": [
    "greet()"
   ]
  },
  {
   "cell_type": "markdown",
   "id": "median-spending",
   "metadata": {},
   "source": [
    "### Syntactic sugar"
   ]
  },
  {
   "cell_type": "code",
   "execution_count": 54,
   "id": "ordered-lingerie",
   "metadata": {},
   "outputs": [],
   "source": [
    "# using decorator \n",
    "@my_decorator\n",
    "def greet2():\n",
    "    print('Hello')"
   ]
  },
  {
   "cell_type": "code",
   "execution_count": 55,
   "id": "swiss-strategy",
   "metadata": {},
   "outputs": [
    {
     "name": "stdout",
     "output_type": "stream",
     "text": [
      "This is done before function execution\n",
      "Hello\n",
      "This is done after function execution\n"
     ]
    }
   ],
   "source": [
    "greet2() # actually the wrapper()"
   ]
  },
  {
   "cell_type": "markdown",
   "id": "boolean-isolation",
   "metadata": {},
   "source": [
    "### Decorating functions with arguments"
   ]
  },
  {
   "cell_type": "code",
   "execution_count": 75,
   "id": "resident-person",
   "metadata": {},
   "outputs": [],
   "source": [
    "#Decorator function\n",
    "def my_decorator2(func):\n",
    "    def wrapper(*args, **kwargs):\n",
    "        print('This is done before function execution')\n",
    "        func(*args, **kwargs)\n",
    "        print('This is done after function execution')\n",
    "        \n",
    "    return wrapper    "
   ]
  },
  {
   "cell_type": "code",
   "execution_count": 76,
   "id": "resistant-diary",
   "metadata": {},
   "outputs": [],
   "source": [
    "@my_decorator2\n",
    "def greet3(name, sir):\n",
    "    print(f'Hello {name} {sir}')"
   ]
  },
  {
   "cell_type": "code",
   "execution_count": 77,
   "id": "timely-jacket",
   "metadata": {},
   "outputs": [
    {
     "name": "stdout",
     "output_type": "stream",
     "text": [
      "This is done before function execution\n",
      "Hello Sebastian Rasmussen\n",
      "This is done after function execution\n"
     ]
    }
   ],
   "source": [
    "greet3('Sebastian', 'Rasmussen')"
   ]
  },
  {
   "cell_type": "code",
   "execution_count": 79,
   "id": "molecular-munich",
   "metadata": {},
   "outputs": [],
   "source": [
    "@my_decorator2\n",
    "def msg(xxx):\n",
    "    print(xxx)"
   ]
  },
  {
   "cell_type": "code",
   "execution_count": 82,
   "id": "hydraulic-pontiac",
   "metadata": {},
   "outputs": [
    {
     "name": "stdout",
     "output_type": "stream",
     "text": [
      "This is done before function execution\n",
      "Hola mi amigo!\n",
      "This is done after function execution\n"
     ]
    }
   ],
   "source": [
    "msg('Hola mi amigo!')"
   ]
  },
  {
   "cell_type": "markdown",
   "id": "retained-karaoke",
   "metadata": {},
   "source": [
    "### Returning values from Decorator funtions\n"
   ]
  },
  {
   "cell_type": "code",
   "execution_count": 107,
   "id": "thermal-feeling",
   "metadata": {},
   "outputs": [],
   "source": [
    "# Decorator function\n",
    "def my_decorator3(func):\n",
    "    def wrapper(*args):\n",
    "        x = 'From wrapper before execution,'\n",
    "        x += func(*args)\n",
    "        x += ', From wrapper after execution'\n",
    "        return x\n",
    "        \n",
    "    return wrapper"
   ]
  },
  {
   "cell_type": "code",
   "execution_count": 108,
   "id": "received-charles",
   "metadata": {},
   "outputs": [],
   "source": [
    "@my_decorator3\n",
    "def greet4(name):\n",
    "    return f' Hello {name}'"
   ]
  },
  {
   "cell_type": "code",
   "execution_count": 109,
   "id": "understanding-validity",
   "metadata": {},
   "outputs": [
    {
     "data": {
      "text/plain": [
       "'From wrapper before execution, \"\\n\" Hello Sebastian, From wrapper after execution'"
      ]
     },
     "execution_count": 109,
     "metadata": {},
     "output_type": "execute_result"
    }
   ],
   "source": [
    "greet4('Sebastian')"
   ]
  },
  {
   "cell_type": "code",
   "execution_count": null,
   "id": "chronic-belly",
   "metadata": {},
   "outputs": [],
   "source": []
  }
 ],
 "metadata": {
  "kernelspec": {
   "display_name": "Python 3",
   "language": "python",
   "name": "python3"
  },
  "language_info": {
   "codemirror_mode": {
    "name": "ipython",
    "version": 3
   },
   "file_extension": ".py",
   "mimetype": "text/x-python",
   "name": "python",
   "nbconvert_exporter": "python",
   "pygments_lexer": "ipython3",
   "version": "3.8.8"
  }
 },
 "nbformat": 4,
 "nbformat_minor": 5
}
